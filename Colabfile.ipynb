{
  "nbformat": 4,
  "nbformat_minor": 0,
  "metadata": {
    "colab": {
      "provenance": []
    },
    "kernelspec": {
      "name": "python3",
      "display_name": "Python 3"
    },
    "language_info": {
      "name": "python"
    }
  },
  "cells": [
    {
      "cell_type": "code",
      "execution_count": 1,
      "metadata": {
        "colab": {
          "base_uri": "https://localhost:8080/"
        },
        "id": "mBAqaJfYHRwC",
        "outputId": "5f6ebc78-a009-450e-b5e6-8a80c107d27a"
      },
      "outputs": [
        {
          "output_type": "stream",
          "name": "stdout",
          "text": [
            "Cloning into 'Actor-Critic-Graph-Convolutional-Networks'...\n",
            "remote: Enumerating objects: 28, done.\u001b[K\n",
            "remote: Counting objects: 100% (28/28), done.\u001b[K\n",
            "remote: Compressing objects: 100% (14/14), done.\u001b[K\n",
            "remote: Total 28 (delta 8), reused 24 (delta 7), pack-reused 0 (from 0)\u001b[K\n",
            "Receiving objects: 100% (28/28), 10.35 KiB | 10.35 MiB/s, done.\n",
            "Resolving deltas: 100% (8/8), done.\n"
          ]
        }
      ],
      "source": [
        "!git clone https://github.com/Shamiyam/Actor-Critic-Graph-Convolutional-Networks.git"
      ]
    },
    {
      "cell_type": "code",
      "source": [
        "!cd Actor-Critic-Graph-Convolutional-Networks/"
      ],
      "metadata": {
        "id": "U-J3cNq4pNhe"
      },
      "execution_count": 2,
      "outputs": []
    },
    {
      "cell_type": "code",
      "source": [
        "!pip install -r /content/Actor-Critic-Graph-Convolutional-Networks/requirements.txt"
      ],
      "metadata": {
        "colab": {
          "base_uri": "https://localhost:8080/"
        },
        "id": "dFoyY1GZNkOa",
        "outputId": "b6927740-c3ae-4d1c-b4a6-402f72208e20"
      },
      "execution_count": 3,
      "outputs": [
        {
          "output_type": "stream",
          "name": "stdout",
          "text": [
            "Requirement already satisfied: torch in /usr/local/lib/python3.12/dist-packages (from -r /content/Actor-Critic-Graph-Convolutional-Networks/requirements.txt (line 1)) (2.8.0+cu126)\n",
            "Requirement already satisfied: numpy in /usr/local/lib/python3.12/dist-packages (from -r /content/Actor-Critic-Graph-Convolutional-Networks/requirements.txt (line 2)) (2.0.2)\n",
            "Requirement already satisfied: matplotlib in /usr/local/lib/python3.12/dist-packages (from -r /content/Actor-Critic-Graph-Convolutional-Networks/requirements.txt (line 3)) (3.10.0)\n",
            "Requirement already satisfied: scipy in /usr/local/lib/python3.12/dist-packages (from -r /content/Actor-Critic-Graph-Convolutional-Networks/requirements.txt (line 5)) (1.16.1)\n",
            "Requirement already satisfied: scikit-learn in /usr/local/lib/python3.12/dist-packages (from -r /content/Actor-Critic-Graph-Convolutional-Networks/requirements.txt (line 6)) (1.6.1)\n",
            "Requirement already satisfied: seaborn in /usr/local/lib/python3.12/dist-packages (from -r /content/Actor-Critic-Graph-Convolutional-Networks/requirements.txt (line 7)) (0.13.2)\n",
            "Requirement already satisfied: gymnasium[box2d] in /usr/local/lib/python3.12/dist-packages (from -r /content/Actor-Critic-Graph-Convolutional-Networks/requirements.txt (line 4)) (1.2.0)\n",
            "Requirement already satisfied: filelock in /usr/local/lib/python3.12/dist-packages (from torch->-r /content/Actor-Critic-Graph-Convolutional-Networks/requirements.txt (line 1)) (3.19.1)\n",
            "Requirement already satisfied: typing-extensions>=4.10.0 in /usr/local/lib/python3.12/dist-packages (from torch->-r /content/Actor-Critic-Graph-Convolutional-Networks/requirements.txt (line 1)) (4.15.0)\n",
            "Requirement already satisfied: setuptools in /usr/local/lib/python3.12/dist-packages (from torch->-r /content/Actor-Critic-Graph-Convolutional-Networks/requirements.txt (line 1)) (75.2.0)\n",
            "Requirement already satisfied: sympy>=1.13.3 in /usr/local/lib/python3.12/dist-packages (from torch->-r /content/Actor-Critic-Graph-Convolutional-Networks/requirements.txt (line 1)) (1.13.3)\n",
            "Requirement already satisfied: networkx in /usr/local/lib/python3.12/dist-packages (from torch->-r /content/Actor-Critic-Graph-Convolutional-Networks/requirements.txt (line 1)) (3.5)\n",
            "Requirement already satisfied: jinja2 in /usr/local/lib/python3.12/dist-packages (from torch->-r /content/Actor-Critic-Graph-Convolutional-Networks/requirements.txt (line 1)) (3.1.6)\n",
            "Requirement already satisfied: fsspec in /usr/local/lib/python3.12/dist-packages (from torch->-r /content/Actor-Critic-Graph-Convolutional-Networks/requirements.txt (line 1)) (2025.3.0)\n",
            "Requirement already satisfied: nvidia-cuda-nvrtc-cu12==12.6.77 in /usr/local/lib/python3.12/dist-packages (from torch->-r /content/Actor-Critic-Graph-Convolutional-Networks/requirements.txt (line 1)) (12.6.77)\n",
            "Requirement already satisfied: nvidia-cuda-runtime-cu12==12.6.77 in /usr/local/lib/python3.12/dist-packages (from torch->-r /content/Actor-Critic-Graph-Convolutional-Networks/requirements.txt (line 1)) (12.6.77)\n",
            "Requirement already satisfied: nvidia-cuda-cupti-cu12==12.6.80 in /usr/local/lib/python3.12/dist-packages (from torch->-r /content/Actor-Critic-Graph-Convolutional-Networks/requirements.txt (line 1)) (12.6.80)\n",
            "Requirement already satisfied: nvidia-cudnn-cu12==9.10.2.21 in /usr/local/lib/python3.12/dist-packages (from torch->-r /content/Actor-Critic-Graph-Convolutional-Networks/requirements.txt (line 1)) (9.10.2.21)\n",
            "Requirement already satisfied: nvidia-cublas-cu12==12.6.4.1 in /usr/local/lib/python3.12/dist-packages (from torch->-r /content/Actor-Critic-Graph-Convolutional-Networks/requirements.txt (line 1)) (12.6.4.1)\n",
            "Requirement already satisfied: nvidia-cufft-cu12==11.3.0.4 in /usr/local/lib/python3.12/dist-packages (from torch->-r /content/Actor-Critic-Graph-Convolutional-Networks/requirements.txt (line 1)) (11.3.0.4)\n",
            "Requirement already satisfied: nvidia-curand-cu12==10.3.7.77 in /usr/local/lib/python3.12/dist-packages (from torch->-r /content/Actor-Critic-Graph-Convolutional-Networks/requirements.txt (line 1)) (10.3.7.77)\n",
            "Requirement already satisfied: nvidia-cusolver-cu12==11.7.1.2 in /usr/local/lib/python3.12/dist-packages (from torch->-r /content/Actor-Critic-Graph-Convolutional-Networks/requirements.txt (line 1)) (11.7.1.2)\n",
            "Requirement already satisfied: nvidia-cusparse-cu12==12.5.4.2 in /usr/local/lib/python3.12/dist-packages (from torch->-r /content/Actor-Critic-Graph-Convolutional-Networks/requirements.txt (line 1)) (12.5.4.2)\n",
            "Requirement already satisfied: nvidia-cusparselt-cu12==0.7.1 in /usr/local/lib/python3.12/dist-packages (from torch->-r /content/Actor-Critic-Graph-Convolutional-Networks/requirements.txt (line 1)) (0.7.1)\n",
            "Requirement already satisfied: nvidia-nccl-cu12==2.27.3 in /usr/local/lib/python3.12/dist-packages (from torch->-r /content/Actor-Critic-Graph-Convolutional-Networks/requirements.txt (line 1)) (2.27.3)\n",
            "Requirement already satisfied: nvidia-nvtx-cu12==12.6.77 in /usr/local/lib/python3.12/dist-packages (from torch->-r /content/Actor-Critic-Graph-Convolutional-Networks/requirements.txt (line 1)) (12.6.77)\n",
            "Requirement already satisfied: nvidia-nvjitlink-cu12==12.6.85 in /usr/local/lib/python3.12/dist-packages (from torch->-r /content/Actor-Critic-Graph-Convolutional-Networks/requirements.txt (line 1)) (12.6.85)\n",
            "Requirement already satisfied: nvidia-cufile-cu12==1.11.1.6 in /usr/local/lib/python3.12/dist-packages (from torch->-r /content/Actor-Critic-Graph-Convolutional-Networks/requirements.txt (line 1)) (1.11.1.6)\n",
            "Requirement already satisfied: triton==3.4.0 in /usr/local/lib/python3.12/dist-packages (from torch->-r /content/Actor-Critic-Graph-Convolutional-Networks/requirements.txt (line 1)) (3.4.0)\n",
            "Requirement already satisfied: contourpy>=1.0.1 in /usr/local/lib/python3.12/dist-packages (from matplotlib->-r /content/Actor-Critic-Graph-Convolutional-Networks/requirements.txt (line 3)) (1.3.3)\n",
            "Requirement already satisfied: cycler>=0.10 in /usr/local/lib/python3.12/dist-packages (from matplotlib->-r /content/Actor-Critic-Graph-Convolutional-Networks/requirements.txt (line 3)) (0.12.1)\n",
            "Requirement already satisfied: fonttools>=4.22.0 in /usr/local/lib/python3.12/dist-packages (from matplotlib->-r /content/Actor-Critic-Graph-Convolutional-Networks/requirements.txt (line 3)) (4.59.2)\n",
            "Requirement already satisfied: kiwisolver>=1.3.1 in /usr/local/lib/python3.12/dist-packages (from matplotlib->-r /content/Actor-Critic-Graph-Convolutional-Networks/requirements.txt (line 3)) (1.4.9)\n",
            "Requirement already satisfied: packaging>=20.0 in /usr/local/lib/python3.12/dist-packages (from matplotlib->-r /content/Actor-Critic-Graph-Convolutional-Networks/requirements.txt (line 3)) (25.0)\n",
            "Requirement already satisfied: pillow>=8 in /usr/local/lib/python3.12/dist-packages (from matplotlib->-r /content/Actor-Critic-Graph-Convolutional-Networks/requirements.txt (line 3)) (11.3.0)\n",
            "Requirement already satisfied: pyparsing>=2.3.1 in /usr/local/lib/python3.12/dist-packages (from matplotlib->-r /content/Actor-Critic-Graph-Convolutional-Networks/requirements.txt (line 3)) (3.2.3)\n",
            "Requirement already satisfied: python-dateutil>=2.7 in /usr/local/lib/python3.12/dist-packages (from matplotlib->-r /content/Actor-Critic-Graph-Convolutional-Networks/requirements.txt (line 3)) (2.9.0.post0)\n",
            "Requirement already satisfied: cloudpickle>=1.2.0 in /usr/local/lib/python3.12/dist-packages (from gymnasium[box2d]->-r /content/Actor-Critic-Graph-Convolutional-Networks/requirements.txt (line 4)) (3.1.1)\n",
            "Requirement already satisfied: farama-notifications>=0.0.1 in /usr/local/lib/python3.12/dist-packages (from gymnasium[box2d]->-r /content/Actor-Critic-Graph-Convolutional-Networks/requirements.txt (line 4)) (0.0.4)\n",
            "Collecting box2d-py==2.3.5 (from gymnasium[box2d]->-r /content/Actor-Critic-Graph-Convolutional-Networks/requirements.txt (line 4))\n",
            "  Downloading box2d-py-2.3.5.tar.gz (374 kB)\n",
            "\u001b[2K     \u001b[90m━━━━━━━━━━━━━━━━━━━━━━━━━━━━━━━━━━━━━━━\u001b[0m \u001b[32m374.4/374.4 kB\u001b[0m \u001b[31m9.9 MB/s\u001b[0m eta \u001b[36m0:00:00\u001b[0m\n",
            "\u001b[?25h  Preparing metadata (setup.py) ... \u001b[?25l\u001b[?25hdone\n",
            "Requirement already satisfied: pygame>=2.1.3 in /usr/local/lib/python3.12/dist-packages (from gymnasium[box2d]->-r /content/Actor-Critic-Graph-Convolutional-Networks/requirements.txt (line 4)) (2.6.1)\n",
            "Collecting swig==4.* (from gymnasium[box2d]->-r /content/Actor-Critic-Graph-Convolutional-Networks/requirements.txt (line 4))\n",
            "  Downloading swig-4.3.1.post0-py3-none-manylinux_2_12_x86_64.manylinux2010_x86_64.whl.metadata (3.5 kB)\n",
            "Requirement already satisfied: joblib>=1.2.0 in /usr/local/lib/python3.12/dist-packages (from scikit-learn->-r /content/Actor-Critic-Graph-Convolutional-Networks/requirements.txt (line 6)) (1.5.2)\n",
            "Requirement already satisfied: threadpoolctl>=3.1.0 in /usr/local/lib/python3.12/dist-packages (from scikit-learn->-r /content/Actor-Critic-Graph-Convolutional-Networks/requirements.txt (line 6)) (3.6.0)\n",
            "Requirement already satisfied: pandas>=1.2 in /usr/local/lib/python3.12/dist-packages (from seaborn->-r /content/Actor-Critic-Graph-Convolutional-Networks/requirements.txt (line 7)) (2.2.2)\n",
            "Requirement already satisfied: pytz>=2020.1 in /usr/local/lib/python3.12/dist-packages (from pandas>=1.2->seaborn->-r /content/Actor-Critic-Graph-Convolutional-Networks/requirements.txt (line 7)) (2025.2)\n",
            "Requirement already satisfied: tzdata>=2022.7 in /usr/local/lib/python3.12/dist-packages (from pandas>=1.2->seaborn->-r /content/Actor-Critic-Graph-Convolutional-Networks/requirements.txt (line 7)) (2025.2)\n",
            "Requirement already satisfied: six>=1.5 in /usr/local/lib/python3.12/dist-packages (from python-dateutil>=2.7->matplotlib->-r /content/Actor-Critic-Graph-Convolutional-Networks/requirements.txt (line 3)) (1.17.0)\n",
            "Requirement already satisfied: mpmath<1.4,>=1.1.0 in /usr/local/lib/python3.12/dist-packages (from sympy>=1.13.3->torch->-r /content/Actor-Critic-Graph-Convolutional-Networks/requirements.txt (line 1)) (1.3.0)\n",
            "Requirement already satisfied: MarkupSafe>=2.0 in /usr/local/lib/python3.12/dist-packages (from jinja2->torch->-r /content/Actor-Critic-Graph-Convolutional-Networks/requirements.txt (line 1)) (3.0.2)\n",
            "Downloading swig-4.3.1.post0-py3-none-manylinux_2_12_x86_64.manylinux2010_x86_64.whl (1.9 MB)\n",
            "\u001b[2K   \u001b[90m━━━━━━━━━━━━━━━━━━━━━━━━━━━━━━━━━━━━━━━━\u001b[0m \u001b[32m1.9/1.9 MB\u001b[0m \u001b[31m32.4 MB/s\u001b[0m eta \u001b[36m0:00:00\u001b[0m\n",
            "\u001b[?25hBuilding wheels for collected packages: box2d-py\n",
            "  \u001b[1;31merror\u001b[0m: \u001b[1msubprocess-exited-with-error\u001b[0m\n",
            "  \n",
            "  \u001b[31m×\u001b[0m \u001b[32mpython setup.py bdist_wheel\u001b[0m did not run successfully.\n",
            "  \u001b[31m│\u001b[0m exit code: \u001b[1;36m1\u001b[0m\n",
            "  \u001b[31m╰─>\u001b[0m See above for output.\n",
            "  \n",
            "  \u001b[1;35mnote\u001b[0m: This error originates from a subprocess, and is likely not a problem with pip.\n",
            "  Building wheel for box2d-py (setup.py) ... \u001b[?25lerror\n",
            "\u001b[31m  ERROR: Failed building wheel for box2d-py\u001b[0m\u001b[31m\n",
            "\u001b[0m\u001b[?25h  Running setup.py clean for box2d-py\n",
            "Failed to build box2d-py\n",
            "\u001b[31mERROR: ERROR: Failed to build installable wheels for some pyproject.toml based projects (box2d-py)\u001b[0m\u001b[31m\n",
            "\u001b[0m"
          ]
        }
      ]
    },
    {
      "cell_type": "code",
      "source": [
        "# Step 1: Install SWIG, a system dependency for Box2D\n",
        "!apt-get update && apt-get install -y swig\n",
        "\n",
        "# Step 2: Perform a clean and forced reinstall from the official source\n",
        "!pip install --force-reinstall --no-cache-dir gymnasium[box2d]\n"
      ],
      "metadata": {
        "colab": {
          "base_uri": "https://localhost:8080/",
          "height": 1000
        },
        "id": "2MRGFJeIQJce",
        "outputId": "c248e096-b829-40e4-eb2f-4d7f47e7c8d6"
      },
      "execution_count": 4,
      "outputs": [
        {
          "output_type": "stream",
          "name": "stdout",
          "text": [
            "\r0% [Working]\r            \rGet:1 https://cloud.r-project.org/bin/linux/ubuntu jammy-cran40/ InRelease [3,632 B]\n",
            "\r            \rGet:2 https://cli.github.com/packages stable InRelease [3,917 B]\n",
            "\r0% [Waiting for headers] [Waiting for headers] [1 InRelease 3,632 B/3,632 B 100\r0% [Waiting for headers] [Waiting for headers] [Connecting to r2u.stat.illinois\r                                                                               \rHit:3 http://archive.ubuntu.com/ubuntu jammy InRelease\n",
            "\r                                                                               \rGet:4 http://security.ubuntu.com/ubuntu jammy-security InRelease [129 kB]\n",
            "Get:5 https://developer.download.nvidia.com/compute/cuda/repos/ubuntu2204/x86_64  InRelease [1,581 B]\n",
            "Hit:6 https://ppa.launchpadcontent.net/deadsnakes/ppa/ubuntu jammy InRelease\n",
            "Get:7 https://ppa.launchpadcontent.net/graphics-drivers/ppa/ubuntu jammy InRelease [24.3 kB]\n",
            "Hit:8 https://ppa.launchpadcontent.net/ubuntugis/ppa/ubuntu jammy InRelease\n",
            "Get:9 http://archive.ubuntu.com/ubuntu jammy-updates InRelease [128 kB]\n",
            "Get:10 http://archive.ubuntu.com/ubuntu jammy-backports InRelease [127 kB]\n",
            "Get:11 https://r2u.stat.illinois.edu/ubuntu jammy InRelease [6,555 B]\n",
            "Get:12 https://developer.download.nvidia.com/compute/cuda/repos/ubuntu2204/x86_64  Packages [2,006 kB]\n",
            "Get:13 https://cli.github.com/packages stable/main amd64 Packages [346 B]\n",
            "Get:14 http://security.ubuntu.com/ubuntu jammy-security/main amd64 Packages [3,310 kB]\n",
            "Get:15 http://archive.ubuntu.com/ubuntu jammy-updates/restricted amd64 Packages [5,627 kB]\n",
            "Get:16 https://r2u.stat.illinois.edu/ubuntu jammy/main all Packages [9,268 kB]\n",
            "Get:17 http://security.ubuntu.com/ubuntu jammy-security/universe amd64 Packages [1,274 kB]\n",
            "Get:18 http://archive.ubuntu.com/ubuntu jammy-updates/universe amd64 Packages [1,581 kB]\n",
            "Get:19 http://archive.ubuntu.com/ubuntu jammy-updates/multiverse amd64 Packages [88.8 kB]\n",
            "Get:20 http://archive.ubuntu.com/ubuntu jammy-updates/main amd64 Packages [3,623 kB]\n",
            "Get:21 https://r2u.stat.illinois.edu/ubuntu jammy/main amd64 Packages [2,798 kB]\n",
            "Fetched 30.0 MB in 5s (5,808 kB/s)\n",
            "Reading package lists... Done\n",
            "W: Skipping acquire of configured file 'main/source/Sources' as repository 'https://r2u.stat.illinois.edu/ubuntu jammy InRelease' does not seem to provide it (sources.list entry misspelt?)\n",
            "Reading package lists... Done\n",
            "Building dependency tree... Done\n",
            "Reading state information... Done\n",
            "The following additional packages will be installed:\n",
            "  swig4.0\n",
            "Suggested packages:\n",
            "  swig-doc swig-examples swig4.0-examples swig4.0-doc\n",
            "The following NEW packages will be installed:\n",
            "  swig swig4.0\n",
            "0 upgraded, 2 newly installed, 0 to remove and 47 not upgraded.\n",
            "Need to get 1,116 kB of archives.\n",
            "After this operation, 5,542 kB of additional disk space will be used.\n",
            "Get:1 http://archive.ubuntu.com/ubuntu jammy/universe amd64 swig4.0 amd64 4.0.2-1ubuntu1 [1,110 kB]\n",
            "Get:2 http://archive.ubuntu.com/ubuntu jammy/universe amd64 swig all 4.0.2-1ubuntu1 [5,632 B]\n",
            "Fetched 1,116 kB in 1s (1,390 kB/s)\n",
            "Selecting previously unselected package swig4.0.\n",
            "(Reading database ... 126374 files and directories currently installed.)\n",
            "Preparing to unpack .../swig4.0_4.0.2-1ubuntu1_amd64.deb ...\n",
            "Unpacking swig4.0 (4.0.2-1ubuntu1) ...\n",
            "Selecting previously unselected package swig.\n",
            "Preparing to unpack .../swig_4.0.2-1ubuntu1_all.deb ...\n",
            "Unpacking swig (4.0.2-1ubuntu1) ...\n",
            "Setting up swig4.0 (4.0.2-1ubuntu1) ...\n",
            "Setting up swig (4.0.2-1ubuntu1) ...\n",
            "Processing triggers for man-db (2.10.2-1) ...\n",
            "Collecting gymnasium[box2d]\n",
            "  Downloading gymnasium-1.2.0-py3-none-any.whl.metadata (9.9 kB)\n",
            "Collecting numpy>=1.21.0 (from gymnasium[box2d])\n",
            "  Downloading numpy-2.3.3-cp312-cp312-manylinux_2_27_x86_64.manylinux_2_28_x86_64.whl.metadata (62 kB)\n",
            "\u001b[2K     \u001b[90m━━━━━━━━━━━━━━━━━━━━━━━━━━━━━━━━━━━━━━━\u001b[0m \u001b[32m62.1/62.1 kB\u001b[0m \u001b[31m128.4 MB/s\u001b[0m eta \u001b[36m0:00:00\u001b[0m\n",
            "\u001b[?25hCollecting cloudpickle>=1.2.0 (from gymnasium[box2d])\n",
            "  Downloading cloudpickle-3.1.1-py3-none-any.whl.metadata (7.1 kB)\n",
            "Collecting typing-extensions>=4.3.0 (from gymnasium[box2d])\n",
            "  Downloading typing_extensions-4.15.0-py3-none-any.whl.metadata (3.3 kB)\n",
            "Collecting farama-notifications>=0.0.1 (from gymnasium[box2d])\n",
            "  Downloading Farama_Notifications-0.0.4-py3-none-any.whl.metadata (558 bytes)\n",
            "Collecting box2d-py==2.3.5 (from gymnasium[box2d])\n",
            "  Downloading box2d-py-2.3.5.tar.gz (374 kB)\n",
            "\u001b[2K     \u001b[90m━━━━━━━━━━━━━━━━━━━━━━━━━━━━━━━━━━━━━━\u001b[0m \u001b[32m374.4/374.4 kB\u001b[0m \u001b[31m48.3 MB/s\u001b[0m eta \u001b[36m0:00:00\u001b[0m\n",
            "\u001b[?25h  Preparing metadata (setup.py) ... \u001b[?25l\u001b[?25hdone\n",
            "Collecting pygame>=2.1.3 (from gymnasium[box2d])\n",
            "  Downloading pygame-2.6.1-cp312-cp312-manylinux_2_17_x86_64.manylinux2014_x86_64.whl.metadata (12 kB)\n",
            "Collecting swig==4.* (from gymnasium[box2d])\n",
            "  Downloading swig-4.3.1.post0-py3-none-manylinux_2_12_x86_64.manylinux2010_x86_64.whl.metadata (3.5 kB)\n",
            "Downloading swig-4.3.1.post0-py3-none-manylinux_2_12_x86_64.manylinux2010_x86_64.whl (1.9 MB)\n",
            "\u001b[2K   \u001b[90m━━━━━━━━━━━━━━━━━━━━━━━━━━━━━━━━━━━━━━━━\u001b[0m \u001b[32m1.9/1.9 MB\u001b[0m \u001b[31m168.4 MB/s\u001b[0m eta \u001b[36m0:00:00\u001b[0m\n",
            "\u001b[?25hDownloading cloudpickle-3.1.1-py3-none-any.whl (20 kB)\n",
            "Downloading Farama_Notifications-0.0.4-py3-none-any.whl (2.5 kB)\n",
            "Downloading numpy-2.3.3-cp312-cp312-manylinux_2_27_x86_64.manylinux_2_28_x86_64.whl (16.6 MB)\n",
            "\u001b[2K   \u001b[90m━━━━━━━━━━━━━━━━━━━━━━━━━━━━━━━━━━━━━━━━\u001b[0m \u001b[32m16.6/16.6 MB\u001b[0m \u001b[31m138.6 MB/s\u001b[0m eta \u001b[36m0:00:00\u001b[0m\n",
            "\u001b[?25hDownloading pygame-2.6.1-cp312-cp312-manylinux_2_17_x86_64.manylinux2014_x86_64.whl (14.0 MB)\n",
            "\u001b[2K   \u001b[90m━━━━━━━━━━━━━━━━━━━━━━━━━━━━━━━━━━━━━━━━\u001b[0m \u001b[32m14.0/14.0 MB\u001b[0m \u001b[31m141.0 MB/s\u001b[0m eta \u001b[36m0:00:00\u001b[0m\n",
            "\u001b[?25hDownloading typing_extensions-4.15.0-py3-none-any.whl (44 kB)\n",
            "\u001b[2K   \u001b[90m━━━━━━━━━━━━━━━━━━━━━━━━━━━━━━━━━━━━━━━━\u001b[0m \u001b[32m44.6/44.6 kB\u001b[0m \u001b[31m213.0 MB/s\u001b[0m eta \u001b[36m0:00:00\u001b[0m\n",
            "\u001b[?25hDownloading gymnasium-1.2.0-py3-none-any.whl (944 kB)\n",
            "\u001b[2K   \u001b[90m━━━━━━━━━━━━━━━━━━━━━━━━━━━━━━━━━━━━━━━\u001b[0m \u001b[32m944.3/944.3 kB\u001b[0m \u001b[31m335.0 MB/s\u001b[0m eta \u001b[36m0:00:00\u001b[0m\n",
            "\u001b[?25hBuilding wheels for collected packages: box2d-py\n",
            "  Building wheel for box2d-py (setup.py) ... \u001b[?25l\u001b[?25hdone\n",
            "  Created wheel for box2d-py: filename=box2d_py-2.3.5-cp312-cp312-linux_x86_64.whl size=2381958 sha256=449e65a3b41f713dddda246ceef27b41c787aa49a89177d05556233692e581a0\n",
            "  Stored in directory: /tmp/pip-ephem-wheel-cache-kbsjqql2/wheels/2a/e9/60/774da0bcd07f7dc7761a8590fa2d065e4069568e78dcdc3318\n",
            "Successfully built box2d-py\n",
            "Installing collected packages: swig, farama-notifications, box2d-py, typing-extensions, pygame, numpy, cloudpickle, gymnasium\n",
            "  Attempting uninstall: farama-notifications\n",
            "    Found existing installation: Farama-Notifications 0.0.4\n",
            "    Uninstalling Farama-Notifications-0.0.4:\n",
            "      Successfully uninstalled Farama-Notifications-0.0.4\n",
            "  Attempting uninstall: typing-extensions\n",
            "    Found existing installation: typing_extensions 4.15.0\n",
            "    Uninstalling typing_extensions-4.15.0:\n",
            "      Successfully uninstalled typing_extensions-4.15.0\n",
            "  Attempting uninstall: pygame\n",
            "    Found existing installation: pygame 2.6.1\n",
            "    Uninstalling pygame-2.6.1:\n",
            "      Successfully uninstalled pygame-2.6.1\n",
            "  Attempting uninstall: numpy\n",
            "    Found existing installation: numpy 2.0.2\n",
            "    Uninstalling numpy-2.0.2:\n",
            "      Successfully uninstalled numpy-2.0.2\n",
            "  Attempting uninstall: cloudpickle\n",
            "    Found existing installation: cloudpickle 3.1.1\n",
            "    Uninstalling cloudpickle-3.1.1:\n",
            "      Successfully uninstalled cloudpickle-3.1.1\n",
            "  Attempting uninstall: gymnasium\n",
            "    Found existing installation: gymnasium 1.2.0\n",
            "    Uninstalling gymnasium-1.2.0:\n",
            "      Successfully uninstalled gymnasium-1.2.0\n",
            "\u001b[31mERROR: pip's dependency resolver does not currently take into account all the packages that are installed. This behaviour is the source of the following dependency conflicts.\n",
            "opencv-contrib-python 4.12.0.88 requires numpy<2.3.0,>=2; python_version >= \"3.9\", but you have numpy 2.3.3 which is incompatible.\n",
            "opencv-python 4.12.0.88 requires numpy<2.3.0,>=2; python_version >= \"3.9\", but you have numpy 2.3.3 which is incompatible.\n",
            "tensorflow 2.19.0 requires numpy<2.2.0,>=1.26.0, but you have numpy 2.3.3 which is incompatible.\n",
            "cupy-cuda12x 13.3.0 requires numpy<2.3,>=1.22, but you have numpy 2.3.3 which is incompatible.\n",
            "numba 0.60.0 requires numpy<2.1,>=1.22, but you have numpy 2.3.3 which is incompatible.\n",
            "opencv-python-headless 4.12.0.88 requires numpy<2.3.0,>=2; python_version >= \"3.9\", but you have numpy 2.3.3 which is incompatible.\u001b[0m\u001b[31m\n",
            "\u001b[0mSuccessfully installed box2d-py-2.3.5 cloudpickle-3.1.1 farama-notifications-0.0.4 gymnasium-1.2.0 numpy-2.3.3 pygame-2.6.1 swig-4.3.1.post0 typing-extensions-4.15.0\n"
          ]
        },
        {
          "output_type": "display_data",
          "data": {
            "application/vnd.colab-display-data+json": {
              "pip_warning": {
                "packages": [
                  "numpy"
                ]
              },
              "id": "506c769ffb234e409e655a08d5390704"
            }
          },
          "metadata": {}
        }
      ]
    },
    {
      "cell_type": "code",
      "source": [
        "cd /content/Actor-Critic-Graph-Convolutional-Networks/part_a"
      ],
      "metadata": {
        "colab": {
          "base_uri": "https://localhost:8080/"
        },
        "id": "0yVVmO-5Itpn",
        "outputId": "a1a47724-11b8-40e2-b0ff-6068bfea993c"
      },
      "execution_count": 1,
      "outputs": [
        {
          "output_type": "stream",
          "name": "stdout",
          "text": [
            "/content/Actor-Critic-Graph-Convolutional-Networks/part_a\n"
          ]
        }
      ]
    },
    {
      "cell_type": "code",
      "source": [
        "!python actor_critic.py"
      ],
      "metadata": {
        "colab": {
          "base_uri": "https://localhost:8080/"
        },
        "id": "Q4HVdJNKSVuO",
        "outputId": "63042e7e-958d-474d-a797-12701f8bf017"
      },
      "execution_count": 2,
      "outputs": [
        {
          "output_type": "stream",
          "name": "stdout",
          "text": [
            "--- Running Experiment 1 ---\n",
            "Episode 10, Average Reward (last 10): -284.26\n",
            "Episode 20, Average Reward (last 10): -283.83\n",
            "Episode 30, Average Reward (last 10): -138.48\n",
            "Episode 40, Average Reward (last 10): -131.08\n",
            "Episode 50, Average Reward (last 10): 11.56\n",
            "Episode 60, Average Reward (last 10): -44.10\n",
            "Episode 70, Average Reward (last 10): -66.71\n",
            "Episode 80, Average Reward (last 10): -86.48\n",
            "Episode 90, Average Reward (last 10): -23.63\n",
            "Episode 100, Average Reward (last 10): -102.16\n",
            "Episode 110, Average Reward (last 10): -88.28\n",
            "Episode 120, Average Reward (last 10): -83.81\n",
            "Episode 130, Average Reward (last 10): -127.00\n",
            "Episode 140, Average Reward (last 10): -27.25\n",
            "Episode 150, Average Reward (last 10): -117.17\n",
            "Episode 160, Average Reward (last 10): -45.24\n",
            "Episode 170, Average Reward (last 10): -11.82\n",
            "Episode 180, Average Reward (last 10): -30.12\n",
            "Episode 190, Average Reward (last 10): 111.13\n",
            "Episode 200, Average Reward (last 10): 208.11\n",
            "Episode 210, Average Reward (last 10): 10.74\n",
            "Episode 220, Average Reward (last 10): 89.64\n",
            "Episode 230, Average Reward (last 10): 74.39\n",
            "Episode 240, Average Reward (last 10): 52.62\n",
            "Episode 250, Average Reward (last 10): 13.51\n",
            "Episode 260, Average Reward (last 10): 83.11\n",
            "Episode 270, Average Reward (last 10): 48.30\n",
            "Episode 280, Average Reward (last 10): 147.73\n",
            "Episode 290, Average Reward (last 10): 140.37\n",
            "Episode 300, Average Reward (last 10): 182.27\n",
            "Figure(1200x500)\n",
            "Figure(1200x500)\n",
            "\n",
            "--- Running Experiment 2 ---\n",
            "Episode 10, Average Reward (last 10): -151.92\n",
            "Episode 20, Average Reward (last 10): -198.62\n",
            "Episode 30, Average Reward (last 10): -181.72\n",
            "Episode 40, Average Reward (last 10): -203.79\n",
            "Episode 50, Average Reward (last 10): -208.39\n",
            "Episode 60, Average Reward (last 10): -166.96\n",
            "Episode 70, Average Reward (last 10): -82.91\n",
            "Episode 80, Average Reward (last 10): -44.11\n",
            "Episode 90, Average Reward (last 10): 40.48\n",
            "Episode 100, Average Reward (last 10): -1.23\n",
            "Episode 110, Average Reward (last 10): -58.37\n",
            "Episode 120, Average Reward (last 10): -134.29\n",
            "Episode 130, Average Reward (last 10): -146.99\n",
            "Episode 140, Average Reward (last 10): -101.77\n",
            "Episode 150, Average Reward (last 10): -131.87\n",
            "Episode 160, Average Reward (last 10): -122.43\n",
            "Episode 170, Average Reward (last 10): -114.03\n",
            "Episode 180, Average Reward (last 10): -117.79\n",
            "Episode 190, Average Reward (last 10): -55.51\n",
            "Episode 200, Average Reward (last 10): -72.38\n",
            "Episode 210, Average Reward (last 10): -84.24\n",
            "Episode 220, Average Reward (last 10): -74.69\n",
            "Episode 230, Average Reward (last 10): -86.21\n",
            "Episode 240, Average Reward (last 10): -135.07\n",
            "Episode 250, Average Reward (last 10): -69.13\n",
            "Episode 260, Average Reward (last 10): -60.52\n",
            "Episode 270, Average Reward (last 10): 23.17\n",
            "Episode 280, Average Reward (last 10): 5.57\n",
            "Episode 290, Average Reward (last 10): -22.54\n",
            "Episode 300, Average Reward (last 10): -16.84\n",
            "Figure(1200x500)\n",
            "Figure(1200x500)\n",
            "Figure(1200x500)\n",
            "\n",
            "--- Evaluating the Better Agent ---\n",
            "The agent from Experiment 1 performed better. Evaluating it now...\n",
            "/usr/local/lib/python3.12/dist-packages/gymnasium/wrappers/rendering.py:296: UserWarning: \u001b[33mWARN: Overwriting existing videos at /content/Actor-Critic-Graph-Convolutional-Networks/part_a/videos_Experiment_1 folder (try specifying a different `video_folder` for the `RecordVideo` wrapper if this is not desired)\u001b[0m\n",
            "  logger.warn(\n",
            "Test Episode 1: Reward = 284.26\n",
            "/usr/local/lib/python3.12/dist-packages/moviepy/config_defaults.py:47: SyntaxWarning: invalid escape sequence '\\P'\n",
            "  IMAGEMAGICK_BINARY = r\"C:\\Program Files\\ImageMagick-6.8.8-Q16\\magick.exe\"\n",
            "Test Episode 2: Reward = 227.48\n",
            "Test Episode 3: Reward = 224.21\n",
            "Test Episode 4: Reward = 240.12\n",
            "Test Episode 5: Reward = 240.07\n",
            "\n",
            "Average Test Reward: 243.23\n",
            "Evaluation videos saved in 'videos_Experiment_1' folder.\n"
          ]
        }
      ]
    },
    {
      "cell_type": "code",
      "source": [
        "from google.colab import drive\n",
        "drive.mount('/content/drive')"
      ],
      "metadata": {
        "colab": {
          "base_uri": "https://localhost:8080/"
        },
        "id": "rjJwD4hsxV-m",
        "outputId": "fc749cb9-3949-481f-83cc-8a1bae3fd82f"
      },
      "execution_count": 3,
      "outputs": [
        {
          "output_type": "stream",
          "name": "stdout",
          "text": [
            "Mounted at /content/drive\n"
          ]
        }
      ]
    },
    {
      "cell_type": "code",
      "source": [
        "!cp -r /content/Actor-Critic-Graph-Convolutional-Networks/part_a/plots /content/drive/MyDrive/\n",
        "!cp -r /content/Actor-Critic-Graph-Convolutional-Networks/part_a/videos_Experiment_1 /content/drive/MyDrive/"
      ],
      "metadata": {
        "id": "5VNxdYPfxaxk"
      },
      "execution_count": 6,
      "outputs": []
    },
    {
      "cell_type": "code",
      "source": [
        "!mkdir -p /content/Actor-Critic-Graph-Convolutional-Networks/part_b/data\n",
        "# Navigate to the correct directory where the data should be stored\n",
        "%cd /content/Actor-Critic-Graph-Convolutional-Networks/part_b/data/\n",
        "\n",
        "# Download the PubMed dataset from a new, working source\n",
        "!wget https://linqs-data.soe.ucsc.edu/public/Pubmed-Diabetes.tgz\n",
        "\n",
        "# Unpack the archive\n",
        "!tar -xvf Pubmed-Diabetes.tgz\n",
        "\n",
        "# Download the official compressed Cora dataset\n",
        "!wget https://linqs-data.soe.ucsc.edu/public/lbc/cora.tgz\n",
        "\n",
        "# Unpack the downloaded file. This will create a 'cora' folder\n",
        "# containing the necessary .content and .cites files.\n",
        "!tar -xvf cora.tgz"
      ],
      "metadata": {
        "colab": {
          "base_uri": "https://localhost:8080/"
        },
        "id": "_yxJjixEbVJv",
        "outputId": "99cb004f-75a3-491b-a7b2-814f1dab7938"
      },
      "execution_count": 2,
      "outputs": [
        {
          "output_type": "stream",
          "name": "stdout",
          "text": [
            "/content/Actor-Critic-Graph-Convolutional-Networks/part_b/data\n",
            "--2025-09-13 06:44:13--  https://linqs-data.soe.ucsc.edu/public/Pubmed-Diabetes.tgz\n",
            "Resolving linqs-data.soe.ucsc.edu (linqs-data.soe.ucsc.edu)... 128.114.56.80\n",
            "Connecting to linqs-data.soe.ucsc.edu (linqs-data.soe.ucsc.edu)|128.114.56.80|:443... connected.\n",
            "HTTP request sent, awaiting response... 200 OK\n",
            "Length: 14710584 (14M) [application/x-gzip]\n",
            "Saving to: ‘Pubmed-Diabetes.tgz’\n",
            "\n",
            "Pubmed-Diabetes.tgz 100%[===================>]  14.03M  16.8MB/s    in 0.8s    \n",
            "\n",
            "2025-09-13 06:44:14 (16.8 MB/s) - ‘Pubmed-Diabetes.tgz’ saved [14710584/14710584]\n",
            "\n",
            "Pubmed-Diabetes/\n",
            "Pubmed-Diabetes/README\n",
            "Pubmed-Diabetes/._README\n",
            "Pubmed-Diabetes/data/\n",
            "Pubmed-Diabetes/data/Pubmed-Diabetes.NODE.paper.tab\n",
            "Pubmed-Diabetes/data/Pubmed-Diabetes.DIRECTED.cites.tab\n",
            "Pubmed-Diabetes/data/Pubmed-Diabetes.GRAPH.pubmed.tab\n",
            "--2025-09-13 06:44:15--  https://linqs-data.soe.ucsc.edu/public/lbc/cora.tgz\n",
            "Resolving linqs-data.soe.ucsc.edu (linqs-data.soe.ucsc.edu)... 128.114.56.80\n",
            "Connecting to linqs-data.soe.ucsc.edu (linqs-data.soe.ucsc.edu)|128.114.56.80|:443... connected.\n",
            "HTTP request sent, awaiting response... 200 OK\n",
            "Length: 168052 (164K) [application/x-gzip]\n",
            "Saving to: ‘cora.tgz’\n",
            "\n",
            "cora.tgz            100%[===================>] 164.11K   747KB/s    in 0.2s    \n",
            "\n",
            "2025-09-13 06:44:16 (747 KB/s) - ‘cora.tgz’ saved [168052/168052]\n",
            "\n",
            "cora/\n",
            "cora/README\n",
            "cora/cora.cites\n",
            "cora/cora.content\n"
          ]
        }
      ]
    },
    {
      "cell_type": "code",
      "source": [
        "# First, change the directory to where your script and data folder are\n",
        "%cd /content/Actor-Critic-Graph-Convolutional-Networks/part_b/\n",
        "\n",
        "# Now, run the script from within its correct location\n",
        "!python gcn.py"
      ],
      "metadata": {
        "colab": {
          "base_uri": "https://localhost:8080/"
        },
        "id": "KE3QRQT4ZchX",
        "outputId": "068f6bf1-a3b9-4400-d8e1-a74593b3e48a"
      },
      "execution_count": 3,
      "outputs": [
        {
          "output_type": "stream",
          "name": "stdout",
          "text": [
            "/content/Actor-Critic-Graph-Convolutional-Networks/part_b\n",
            "Loading cora dataset...\n",
            "\n",
            "Running GCN Experiment 1...\n",
            "/content/Actor-Critic-Graph-Convolutional-Networks/part_b/gcn.py:118: UserWarning: torch.sparse.SparseTensor(indices, values, shape, *, device=) is deprecated.  Please use torch.sparse_coo_tensor(indices, values, shape, dtype=, device=). (Triggered internally at /pytorch/torch/csrc/utils/tensor_new.cpp:653.)\n",
            "  return torch.sparse.FloatTensor(indices, values, shape)\n",
            "Epoch 10/200, Train Loss: 1.1633, Val Loss: 1.1348, Val Acc: 0.7726\n",
            "Epoch 20/200, Train Loss: 0.6013, Val Loss: 0.5649, Val Acc: 0.8706\n",
            "Epoch 30/200, Train Loss: 0.3728, Val Loss: 0.4102, Val Acc: 0.8799\n",
            "Epoch 40/200, Train Loss: 0.2978, Val Loss: 0.3817, Val Acc: 0.8743\n",
            "Epoch 50/200, Train Loss: 0.2529, Val Loss: 0.3833, Val Acc: 0.8799\n",
            "Epoch 60/200, Train Loss: 0.2336, Val Loss: 0.3804, Val Acc: 0.8780\n",
            "Epoch 70/200, Train Loss: 0.2019, Val Loss: 0.3875, Val Acc: 0.8706\n",
            "Epoch 80/200, Train Loss: 0.2060, Val Loss: 0.3905, Val Acc: 0.8725\n",
            "Epoch 90/200, Train Loss: 0.1862, Val Loss: 0.3820, Val Acc: 0.8817\n",
            "Epoch 100/200, Train Loss: 0.1812, Val Loss: 0.3928, Val Acc: 0.8762\n",
            "Epoch 110/200, Train Loss: 0.1765, Val Loss: 0.3982, Val Acc: 0.8669\n",
            "Epoch 120/200, Train Loss: 0.1677, Val Loss: 0.4090, Val Acc: 0.8651\n",
            "Epoch 130/200, Train Loss: 0.1625, Val Loss: 0.4048, Val Acc: 0.8688\n",
            "Epoch 140/200, Train Loss: 0.1610, Val Loss: 0.4107, Val Acc: 0.8706\n",
            "Epoch 150/200, Train Loss: 0.1526, Val Loss: 0.4262, Val Acc: 0.8595\n",
            "Epoch 160/200, Train Loss: 0.1548, Val Loss: 0.4175, Val Acc: 0.8651\n",
            "Epoch 170/200, Train Loss: 0.1445, Val Loss: 0.4230, Val Acc: 0.8651\n",
            "Epoch 180/200, Train Loss: 0.1578, Val Loss: 0.4196, Val Acc: 0.8651\n",
            "Epoch 190/200, Train Loss: 0.1500, Val Loss: 0.4347, Val Acc: 0.8614\n",
            "Epoch 200/200, Train Loss: 0.1390, Val Loss: 0.4412, Val Acc: 0.8577\n",
            "Test Accuracy: 0.8748\n",
            "\n",
            "Running GCN Experiment 2...\n",
            "Epoch 10/200, Train Loss: 1.1492, Val Loss: 1.1418, Val Acc: 0.7449\n",
            "Epoch 20/200, Train Loss: 0.5558, Val Loss: 0.6164, Val Acc: 0.8706\n",
            "Epoch 30/200, Train Loss: 0.3303, Val Loss: 0.4207, Val Acc: 0.8817\n",
            "Epoch 40/200, Train Loss: 0.2459, Val Loss: 0.3728, Val Acc: 0.8762\n",
            "Epoch 50/200, Train Loss: 0.1911, Val Loss: 0.3717, Val Acc: 0.8688\n",
            "Epoch 60/200, Train Loss: 0.1625, Val Loss: 0.3813, Val Acc: 0.8725\n",
            "Epoch 70/200, Train Loss: 0.1414, Val Loss: 0.3945, Val Acc: 0.8725\n",
            "Epoch 80/200, Train Loss: 0.1282, Val Loss: 0.4068, Val Acc: 0.8706\n",
            "Epoch 90/200, Train Loss: 0.1184, Val Loss: 0.4193, Val Acc: 0.8688\n",
            "Epoch 100/200, Train Loss: 0.1050, Val Loss: 0.4317, Val Acc: 0.8614\n",
            "Epoch 110/200, Train Loss: 0.0971, Val Loss: 0.4400, Val Acc: 0.8614\n",
            "Epoch 120/200, Train Loss: 0.0908, Val Loss: 0.4537, Val Acc: 0.8614\n",
            "Epoch 130/200, Train Loss: 0.0873, Val Loss: 0.4639, Val Acc: 0.8614\n",
            "Epoch 140/200, Train Loss: 0.0804, Val Loss: 0.4764, Val Acc: 0.8595\n",
            "Epoch 150/200, Train Loss: 0.0817, Val Loss: 0.4879, Val Acc: 0.8595\n",
            "Epoch 160/200, Train Loss: 0.0740, Val Loss: 0.4925, Val Acc: 0.8595\n",
            "Epoch 170/200, Train Loss: 0.0688, Val Loss: 0.4973, Val Acc: 0.8669\n",
            "Epoch 180/200, Train Loss: 0.0638, Val Loss: 0.5011, Val Acc: 0.8614\n",
            "Epoch 190/200, Train Loss: 0.0693, Val Loss: 0.5121, Val Acc: 0.8577\n",
            "Epoch 200/200, Train Loss: 0.0625, Val Loss: 0.5207, Val Acc: 0.8614\n",
            "Test Accuracy: 0.8674\n",
            "\n",
            "Experiment 1 Test Accuracy: 0.8747697974217311\n",
            "Experiment 2 Test Accuracy: 0.8674033149171271\n"
          ]
        }
      ]
    }
  ]
}